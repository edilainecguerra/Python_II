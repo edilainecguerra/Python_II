{
  "nbformat": 4,
  "nbformat_minor": 0,
  "metadata": {
    "colab": {
      "provenance": [],
      "authorship_tag": "ABX9TyPc32VzPldLsVf6lS/IwG/s",
      "include_colab_link": true
    },
    "kernelspec": {
      "name": "python3",
      "display_name": "Python 3"
    },
    "language_info": {
      "name": "python"
    }
  },
  "cells": [
    {
      "cell_type": "markdown",
      "metadata": {
        "id": "view-in-github",
        "colab_type": "text"
      },
      "source": [
        "<a href=\"https://colab.research.google.com/github/edilainecguerra/Python_II/blob/main/Untitled9.ipynb\" target=\"_parent\"><img src=\"https://colab.research.google.com/assets/colab-badge.svg\" alt=\"Open In Colab\"/></a>"
      ]
    },
    {
      "cell_type": "code",
      "execution_count": null,
      "metadata": {
        "id": "vDFOqsTpOVLn"
      },
      "outputs": [],
      "source": []
    },
    {
      "cell_type": "markdown",
      "source": [
        "**ORGANIZAÇÃO DE INFORMAÇÕES ELEMENTARES**\n",
        "INTRODUÇÃO AO PYTHON\n"
      ],
      "metadata": {
        "id": "-fA-3tQ3OfQu"
      }
    },
    {
      "cell_type": "markdown",
      "source": [],
      "metadata": {
        "id": "z2ieggQjOcgA"
      }
    },
    {
      "cell_type": "code",
      "source": [
        "print(\"Olá, Mundo!\")"
      ],
      "metadata": {
        "colab": {
          "base_uri": "https://localhost:8080/"
        },
        "id": "R3X90Z5rO3Ih",
        "outputId": "0374c233-4fb1-41d2-e120-793542b1ac5d"
      },
      "execution_count": 1,
      "outputs": [
        {
          "output_type": "stream",
          "name": "stdout",
          "text": [
            "Olá, Mundo!\n"
          ]
        }
      ]
    }
  ]
}